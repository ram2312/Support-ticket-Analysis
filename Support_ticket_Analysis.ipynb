{
  "nbformat": 4,
  "nbformat_minor": 0,
  "metadata": {
    "colab": {
      "provenance": []
    },
    "kernelspec": {
      "name": "python3",
      "display_name": "Python 3"
    },
    "language_info": {
      "name": "python"
    }
  },
  "cells": [
    {
      "cell_type": "code",
      "source": [
        "import pandas as pd\n",
        "import numpy as np\n",
        "import matplotlib.pyplot as plt\n",
        "import seaborn as sns\n",
        "import os\n",
        "import re\n",
        "from nltk.corpus import stopwords\n",
        "import nltk\n",
        "nltk.download('stopwords')"
      ],
      "metadata": {
        "colab": {
          "base_uri": "https://localhost:8080/"
        },
        "id": "yBwobymzxZI7",
        "outputId": "bd5fa374-a0d0-4b59-8bea-68b3785432ae"
      },
      "execution_count": 47,
      "outputs": [
        {
          "output_type": "stream",
          "name": "stderr",
          "text": [
            "[nltk_data] Downloading package stopwords to /root/nltk_data...\n",
            "[nltk_data]   Package stopwords is already up-to-date!\n"
          ]
        },
        {
          "output_type": "execute_result",
          "data": {
            "text/plain": [
              "True"
            ]
          },
          "metadata": {},
          "execution_count": 47
        }
      ]
    },
    {
      "cell_type": "code",
      "execution_count": 1,
      "metadata": {
        "colab": {
          "base_uri": "https://localhost:8080/"
        },
        "id": "Vpxb3qElUF6M",
        "outputId": "7196566f-1d7d-4b74-9a7d-d9531aff299d"
      },
      "outputs": [
        {
          "output_type": "stream",
          "name": "stdout",
          "text": [
            "   Ticket ID        Customer Name              Customer Email  Customer Age  \\\n",
            "0          1        Marisa Obrien  carrollallison@example.com            32   \n",
            "1          2         Jessica Rios    clarkeashley@example.com            42   \n",
            "2          3  Christopher Robbins   gonzalestracy@example.com            48   \n",
            "3          4     Christina Dillon    bradleyolson@example.org            27   \n",
            "4          5    Alexander Carroll     bradleymark@example.com            67   \n",
            "\n",
            "  Customer Gender Product Purchased Date of Purchase      Ticket Type  \\\n",
            "0           Other        GoPro Hero       2021-03-22  Technical issue   \n",
            "1          Female       LG Smart TV       2021-05-22  Technical issue   \n",
            "2           Other          Dell XPS       2020-07-14  Technical issue   \n",
            "3          Female  Microsoft Office       2020-11-13  Billing inquiry   \n",
            "4          Female  Autodesk AutoCAD       2020-02-04  Billing inquiry   \n",
            "\n",
            "             Ticket Subject  \\\n",
            "0             Product setup   \n",
            "1  Peripheral compatibility   \n",
            "2           Network problem   \n",
            "3            Account access   \n",
            "4                 Data loss   \n",
            "\n",
            "                                  Ticket Description  \\\n",
            "0  I'm having an issue with the {product_purchase...   \n",
            "1  I'm having an issue with the {product_purchase...   \n",
            "2  I'm facing a problem with my {product_purchase...   \n",
            "3  I'm having an issue with the {product_purchase...   \n",
            "4  I'm having an issue with the {product_purchase...   \n",
            "\n",
            "               Ticket Status                                     Resolution  \\\n",
            "0  Pending Customer Response                                            NaN   \n",
            "1  Pending Customer Response                                            NaN   \n",
            "2                     Closed   Case maybe show recently my computer follow.   \n",
            "3                     Closed  Try capital clearly never color toward story.   \n",
            "4                     Closed                    West decision evidence bit.   \n",
            "\n",
            "  Ticket Priority Ticket Channel  First Response Time   Time to Resolution  \\\n",
            "0        Critical   Social media  2023-06-01 12:15:36                  NaN   \n",
            "1        Critical           Chat  2023-06-01 16:45:38                  NaN   \n",
            "2             Low   Social media  2023-06-01 11:14:38  2023-06-01 18:05:38   \n",
            "3             Low   Social media  2023-06-01 07:29:40  2023-06-01 01:57:40   \n",
            "4             Low          Email  2023-06-01 00:12:42  2023-06-01 19:53:42   \n",
            "\n",
            "   Customer Satisfaction Rating  \n",
            "0                           NaN  \n",
            "1                           NaN  \n",
            "2                           3.0  \n",
            "3                           3.0  \n",
            "4                           1.0  \n"
          ]
        }
      ],
      "source": [
        "df=pd.read_csv(\"/content/customer_support_tickets.csv\")\n",
        "print(df.head())\n"
      ]
    },
    {
      "cell_type": "code",
      "source": [
        "df.info()"
      ],
      "metadata": {
        "colab": {
          "base_uri": "https://localhost:8080/"
        },
        "id": "pOrpTkIzwTz1",
        "outputId": "22164b9d-1f80-4437-ce0a-b8bf7ef424e4"
      },
      "execution_count": 2,
      "outputs": [
        {
          "output_type": "stream",
          "name": "stdout",
          "text": [
            "<class 'pandas.core.frame.DataFrame'>\n",
            "RangeIndex: 8469 entries, 0 to 8468\n",
            "Data columns (total 17 columns):\n",
            " #   Column                        Non-Null Count  Dtype  \n",
            "---  ------                        --------------  -----  \n",
            " 0   Ticket ID                     8469 non-null   int64  \n",
            " 1   Customer Name                 8469 non-null   object \n",
            " 2   Customer Email                8469 non-null   object \n",
            " 3   Customer Age                  8469 non-null   int64  \n",
            " 4   Customer Gender               8469 non-null   object \n",
            " 5   Product Purchased             8469 non-null   object \n",
            " 6   Date of Purchase              8469 non-null   object \n",
            " 7   Ticket Type                   8469 non-null   object \n",
            " 8   Ticket Subject                8469 non-null   object \n",
            " 9   Ticket Description            8469 non-null   object \n",
            " 10  Ticket Status                 8469 non-null   object \n",
            " 11  Resolution                    2769 non-null   object \n",
            " 12  Ticket Priority               8469 non-null   object \n",
            " 13  Ticket Channel                8469 non-null   object \n",
            " 14  First Response Time           5650 non-null   object \n",
            " 15  Time to Resolution            2769 non-null   object \n",
            " 16  Customer Satisfaction Rating  2769 non-null   float64\n",
            "dtypes: float64(1), int64(2), object(14)\n",
            "memory usage: 1.1+ MB\n"
          ]
        }
      ]
    },
    {
      "cell_type": "code",
      "source": [
        "df.describe()"
      ],
      "metadata": {
        "colab": {
          "base_uri": "https://localhost:8080/",
          "height": 300
        },
        "id": "psDTskj_wYkN",
        "outputId": "faafafa4-a3bd-4f58-f17f-c2db91f93d64"
      },
      "execution_count": 5,
      "outputs": [
        {
          "output_type": "execute_result",
          "data": {
            "text/plain": [
              "         Ticket ID  Customer Age  Customer Satisfaction Rating\n",
              "count  8469.000000   8469.000000                   2769.000000\n",
              "mean   4235.000000     44.026804                      2.991333\n",
              "std    2444.934048     15.296112                      1.407016\n",
              "min       1.000000     18.000000                      1.000000\n",
              "25%    2118.000000     31.000000                      2.000000\n",
              "50%    4235.000000     44.000000                      3.000000\n",
              "75%    6352.000000     57.000000                      4.000000\n",
              "max    8469.000000     70.000000                      5.000000"
            ],
            "text/html": [
              "\n",
              "  <div id=\"df-0d4d637e-00bd-4d51-aa3f-3c7dacc9dd15\" class=\"colab-df-container\">\n",
              "    <div>\n",
              "<style scoped>\n",
              "    .dataframe tbody tr th:only-of-type {\n",
              "        vertical-align: middle;\n",
              "    }\n",
              "\n",
              "    .dataframe tbody tr th {\n",
              "        vertical-align: top;\n",
              "    }\n",
              "\n",
              "    .dataframe thead th {\n",
              "        text-align: right;\n",
              "    }\n",
              "</style>\n",
              "<table border=\"1\" class=\"dataframe\">\n",
              "  <thead>\n",
              "    <tr style=\"text-align: right;\">\n",
              "      <th></th>\n",
              "      <th>Ticket ID</th>\n",
              "      <th>Customer Age</th>\n",
              "      <th>Customer Satisfaction Rating</th>\n",
              "    </tr>\n",
              "  </thead>\n",
              "  <tbody>\n",
              "    <tr>\n",
              "      <th>count</th>\n",
              "      <td>8469.000000</td>\n",
              "      <td>8469.000000</td>\n",
              "      <td>2769.000000</td>\n",
              "    </tr>\n",
              "    <tr>\n",
              "      <th>mean</th>\n",
              "      <td>4235.000000</td>\n",
              "      <td>44.026804</td>\n",
              "      <td>2.991333</td>\n",
              "    </tr>\n",
              "    <tr>\n",
              "      <th>std</th>\n",
              "      <td>2444.934048</td>\n",
              "      <td>15.296112</td>\n",
              "      <td>1.407016</td>\n",
              "    </tr>\n",
              "    <tr>\n",
              "      <th>min</th>\n",
              "      <td>1.000000</td>\n",
              "      <td>18.000000</td>\n",
              "      <td>1.000000</td>\n",
              "    </tr>\n",
              "    <tr>\n",
              "      <th>25%</th>\n",
              "      <td>2118.000000</td>\n",
              "      <td>31.000000</td>\n",
              "      <td>2.000000</td>\n",
              "    </tr>\n",
              "    <tr>\n",
              "      <th>50%</th>\n",
              "      <td>4235.000000</td>\n",
              "      <td>44.000000</td>\n",
              "      <td>3.000000</td>\n",
              "    </tr>\n",
              "    <tr>\n",
              "      <th>75%</th>\n",
              "      <td>6352.000000</td>\n",
              "      <td>57.000000</td>\n",
              "      <td>4.000000</td>\n",
              "    </tr>\n",
              "    <tr>\n",
              "      <th>max</th>\n",
              "      <td>8469.000000</td>\n",
              "      <td>70.000000</td>\n",
              "      <td>5.000000</td>\n",
              "    </tr>\n",
              "  </tbody>\n",
              "</table>\n",
              "</div>\n",
              "    <div class=\"colab-df-buttons\">\n",
              "\n",
              "  <div class=\"colab-df-container\">\n",
              "    <button class=\"colab-df-convert\" onclick=\"convertToInteractive('df-0d4d637e-00bd-4d51-aa3f-3c7dacc9dd15')\"\n",
              "            title=\"Convert this dataframe to an interactive table.\"\n",
              "            style=\"display:none;\">\n",
              "\n",
              "  <svg xmlns=\"http://www.w3.org/2000/svg\" height=\"24px\" viewBox=\"0 -960 960 960\">\n",
              "    <path d=\"M120-120v-720h720v720H120Zm60-500h600v-160H180v160Zm220 220h160v-160H400v160Zm0 220h160v-160H400v160ZM180-400h160v-160H180v160Zm440 0h160v-160H620v160ZM180-180h160v-160H180v160Zm440 0h160v-160H620v160Z\"/>\n",
              "  </svg>\n",
              "    </button>\n",
              "\n",
              "  <style>\n",
              "    .colab-df-container {\n",
              "      display:flex;\n",
              "      gap: 12px;\n",
              "    }\n",
              "\n",
              "    .colab-df-convert {\n",
              "      background-color: #E8F0FE;\n",
              "      border: none;\n",
              "      border-radius: 50%;\n",
              "      cursor: pointer;\n",
              "      display: none;\n",
              "      fill: #1967D2;\n",
              "      height: 32px;\n",
              "      padding: 0 0 0 0;\n",
              "      width: 32px;\n",
              "    }\n",
              "\n",
              "    .colab-df-convert:hover {\n",
              "      background-color: #E2EBFA;\n",
              "      box-shadow: 0px 1px 2px rgba(60, 64, 67, 0.3), 0px 1px 3px 1px rgba(60, 64, 67, 0.15);\n",
              "      fill: #174EA6;\n",
              "    }\n",
              "\n",
              "    .colab-df-buttons div {\n",
              "      margin-bottom: 4px;\n",
              "    }\n",
              "\n",
              "    [theme=dark] .colab-df-convert {\n",
              "      background-color: #3B4455;\n",
              "      fill: #D2E3FC;\n",
              "    }\n",
              "\n",
              "    [theme=dark] .colab-df-convert:hover {\n",
              "      background-color: #434B5C;\n",
              "      box-shadow: 0px 1px 3px 1px rgba(0, 0, 0, 0.15);\n",
              "      filter: drop-shadow(0px 1px 2px rgba(0, 0, 0, 0.3));\n",
              "      fill: #FFFFFF;\n",
              "    }\n",
              "  </style>\n",
              "\n",
              "    <script>\n",
              "      const buttonEl =\n",
              "        document.querySelector('#df-0d4d637e-00bd-4d51-aa3f-3c7dacc9dd15 button.colab-df-convert');\n",
              "      buttonEl.style.display =\n",
              "        google.colab.kernel.accessAllowed ? 'block' : 'none';\n",
              "\n",
              "      async function convertToInteractive(key) {\n",
              "        const element = document.querySelector('#df-0d4d637e-00bd-4d51-aa3f-3c7dacc9dd15');\n",
              "        const dataTable =\n",
              "          await google.colab.kernel.invokeFunction('convertToInteractive',\n",
              "                                                    [key], {});\n",
              "        if (!dataTable) return;\n",
              "\n",
              "        const docLinkHtml = 'Like what you see? Visit the ' +\n",
              "          '<a target=\"_blank\" href=https://colab.research.google.com/notebooks/data_table.ipynb>data table notebook</a>'\n",
              "          + ' to learn more about interactive tables.';\n",
              "        element.innerHTML = '';\n",
              "        dataTable['output_type'] = 'display_data';\n",
              "        await google.colab.output.renderOutput(dataTable, element);\n",
              "        const docLink = document.createElement('div');\n",
              "        docLink.innerHTML = docLinkHtml;\n",
              "        element.appendChild(docLink);\n",
              "      }\n",
              "    </script>\n",
              "  </div>\n",
              "\n",
              "\n",
              "    <div id=\"df-30ba1836-4d57-43f5-9169-eebe5c9592b2\">\n",
              "      <button class=\"colab-df-quickchart\" onclick=\"quickchart('df-30ba1836-4d57-43f5-9169-eebe5c9592b2')\"\n",
              "                title=\"Suggest charts\"\n",
              "                style=\"display:none;\">\n",
              "\n",
              "<svg xmlns=\"http://www.w3.org/2000/svg\" height=\"24px\"viewBox=\"0 0 24 24\"\n",
              "     width=\"24px\">\n",
              "    <g>\n",
              "        <path d=\"M19 3H5c-1.1 0-2 .9-2 2v14c0 1.1.9 2 2 2h14c1.1 0 2-.9 2-2V5c0-1.1-.9-2-2-2zM9 17H7v-7h2v7zm4 0h-2V7h2v10zm4 0h-2v-4h2v4z\"/>\n",
              "    </g>\n",
              "</svg>\n",
              "      </button>\n",
              "\n",
              "<style>\n",
              "  .colab-df-quickchart {\n",
              "      --bg-color: #E8F0FE;\n",
              "      --fill-color: #1967D2;\n",
              "      --hover-bg-color: #E2EBFA;\n",
              "      --hover-fill-color: #174EA6;\n",
              "      --disabled-fill-color: #AAA;\n",
              "      --disabled-bg-color: #DDD;\n",
              "  }\n",
              "\n",
              "  [theme=dark] .colab-df-quickchart {\n",
              "      --bg-color: #3B4455;\n",
              "      --fill-color: #D2E3FC;\n",
              "      --hover-bg-color: #434B5C;\n",
              "      --hover-fill-color: #FFFFFF;\n",
              "      --disabled-bg-color: #3B4455;\n",
              "      --disabled-fill-color: #666;\n",
              "  }\n",
              "\n",
              "  .colab-df-quickchart {\n",
              "    background-color: var(--bg-color);\n",
              "    border: none;\n",
              "    border-radius: 50%;\n",
              "    cursor: pointer;\n",
              "    display: none;\n",
              "    fill: var(--fill-color);\n",
              "    height: 32px;\n",
              "    padding: 0;\n",
              "    width: 32px;\n",
              "  }\n",
              "\n",
              "  .colab-df-quickchart:hover {\n",
              "    background-color: var(--hover-bg-color);\n",
              "    box-shadow: 0 1px 2px rgba(60, 64, 67, 0.3), 0 1px 3px 1px rgba(60, 64, 67, 0.15);\n",
              "    fill: var(--button-hover-fill-color);\n",
              "  }\n",
              "\n",
              "  .colab-df-quickchart-complete:disabled,\n",
              "  .colab-df-quickchart-complete:disabled:hover {\n",
              "    background-color: var(--disabled-bg-color);\n",
              "    fill: var(--disabled-fill-color);\n",
              "    box-shadow: none;\n",
              "  }\n",
              "\n",
              "  .colab-df-spinner {\n",
              "    border: 2px solid var(--fill-color);\n",
              "    border-color: transparent;\n",
              "    border-bottom-color: var(--fill-color);\n",
              "    animation:\n",
              "      spin 1s steps(1) infinite;\n",
              "  }\n",
              "\n",
              "  @keyframes spin {\n",
              "    0% {\n",
              "      border-color: transparent;\n",
              "      border-bottom-color: var(--fill-color);\n",
              "      border-left-color: var(--fill-color);\n",
              "    }\n",
              "    20% {\n",
              "      border-color: transparent;\n",
              "      border-left-color: var(--fill-color);\n",
              "      border-top-color: var(--fill-color);\n",
              "    }\n",
              "    30% {\n",
              "      border-color: transparent;\n",
              "      border-left-color: var(--fill-color);\n",
              "      border-top-color: var(--fill-color);\n",
              "      border-right-color: var(--fill-color);\n",
              "    }\n",
              "    40% {\n",
              "      border-color: transparent;\n",
              "      border-right-color: var(--fill-color);\n",
              "      border-top-color: var(--fill-color);\n",
              "    }\n",
              "    60% {\n",
              "      border-color: transparent;\n",
              "      border-right-color: var(--fill-color);\n",
              "    }\n",
              "    80% {\n",
              "      border-color: transparent;\n",
              "      border-right-color: var(--fill-color);\n",
              "      border-bottom-color: var(--fill-color);\n",
              "    }\n",
              "    90% {\n",
              "      border-color: transparent;\n",
              "      border-bottom-color: var(--fill-color);\n",
              "    }\n",
              "  }\n",
              "</style>\n",
              "\n",
              "      <script>\n",
              "        async function quickchart(key) {\n",
              "          const quickchartButtonEl =\n",
              "            document.querySelector('#' + key + ' button');\n",
              "          quickchartButtonEl.disabled = true;  // To prevent multiple clicks.\n",
              "          quickchartButtonEl.classList.add('colab-df-spinner');\n",
              "          try {\n",
              "            const charts = await google.colab.kernel.invokeFunction(\n",
              "                'suggestCharts', [key], {});\n",
              "          } catch (error) {\n",
              "            console.error('Error during call to suggestCharts:', error);\n",
              "          }\n",
              "          quickchartButtonEl.classList.remove('colab-df-spinner');\n",
              "          quickchartButtonEl.classList.add('colab-df-quickchart-complete');\n",
              "        }\n",
              "        (() => {\n",
              "          let quickchartButtonEl =\n",
              "            document.querySelector('#df-30ba1836-4d57-43f5-9169-eebe5c9592b2 button');\n",
              "          quickchartButtonEl.style.display =\n",
              "            google.colab.kernel.accessAllowed ? 'block' : 'none';\n",
              "        })();\n",
              "      </script>\n",
              "    </div>\n",
              "\n",
              "    </div>\n",
              "  </div>\n"
            ],
            "application/vnd.google.colaboratory.intrinsic+json": {
              "type": "dataframe",
              "summary": "{\n  \"name\": \"df\",\n  \"rows\": 8,\n  \"fields\": [\n    {\n      \"column\": \"Ticket ID\",\n      \"properties\": {\n        \"dtype\": \"number\",\n        \"std\": 3051.9637801595545,\n        \"min\": 1.0,\n        \"max\": 8469.0,\n        \"num_unique_values\": 6,\n        \"samples\": [\n          8469.0,\n          4235.0,\n          6352.0\n        ],\n        \"semantic_type\": \"\",\n        \"description\": \"\"\n      }\n    },\n    {\n      \"column\": \"Customer Age\",\n      \"properties\": {\n        \"dtype\": \"number\",\n        \"std\": 2980.1931648773802,\n        \"min\": 15.296112498882431,\n        \"max\": 8469.0,\n        \"num_unique_values\": 8,\n        \"samples\": [\n          44.02680363679301,\n          44.0,\n          8469.0\n        ],\n        \"semantic_type\": \"\",\n        \"description\": \"\"\n      }\n    },\n    {\n      \"column\": \"Customer Satisfaction Rating\",\n      \"properties\": {\n        \"dtype\": \"number\",\n        \"std\": 978.0104629182991,\n        \"min\": 1.0,\n        \"max\": 2769.0,\n        \"num_unique_values\": 8,\n        \"samples\": [\n          2.991332611050921,\n          3.0,\n          2769.0\n        ],\n        \"semantic_type\": \"\",\n        \"description\": \"\"\n      }\n    }\n  ]\n}"
            }
          },
          "metadata": {},
          "execution_count": 5
        }
      ]
    },
    {
      "cell_type": "code",
      "source": [
        "df['Ticket Channel'].unique()\n",
        "df['Ticket Channel'].value_counts()"
      ],
      "metadata": {
        "colab": {
          "base_uri": "https://localhost:8080/",
          "height": 241
        },
        "id": "qBJOlSd1wsGo",
        "outputId": "c83fdb0f-212e-4318-af56-c37ea2ca6675"
      },
      "execution_count": 7,
      "outputs": [
        {
          "output_type": "execute_result",
          "data": {
            "text/plain": [
              "Ticket Channel\n",
              "Email           2143\n",
              "Phone           2132\n",
              "Social media    2121\n",
              "Chat            2073\n",
              "Name: count, dtype: int64"
            ],
            "text/html": [
              "<div>\n",
              "<style scoped>\n",
              "    .dataframe tbody tr th:only-of-type {\n",
              "        vertical-align: middle;\n",
              "    }\n",
              "\n",
              "    .dataframe tbody tr th {\n",
              "        vertical-align: top;\n",
              "    }\n",
              "\n",
              "    .dataframe thead th {\n",
              "        text-align: right;\n",
              "    }\n",
              "</style>\n",
              "<table border=\"1\" class=\"dataframe\">\n",
              "  <thead>\n",
              "    <tr style=\"text-align: right;\">\n",
              "      <th></th>\n",
              "      <th>count</th>\n",
              "    </tr>\n",
              "    <tr>\n",
              "      <th>Ticket Channel</th>\n",
              "      <th></th>\n",
              "    </tr>\n",
              "  </thead>\n",
              "  <tbody>\n",
              "    <tr>\n",
              "      <th>Email</th>\n",
              "      <td>2143</td>\n",
              "    </tr>\n",
              "    <tr>\n",
              "      <th>Phone</th>\n",
              "      <td>2132</td>\n",
              "    </tr>\n",
              "    <tr>\n",
              "      <th>Social media</th>\n",
              "      <td>2121</td>\n",
              "    </tr>\n",
              "    <tr>\n",
              "      <th>Chat</th>\n",
              "      <td>2073</td>\n",
              "    </tr>\n",
              "  </tbody>\n",
              "</table>\n",
              "</div><br><label><b>dtype:</b> int64</label>"
            ]
          },
          "metadata": {},
          "execution_count": 7
        }
      ]
    },
    {
      "cell_type": "code",
      "source": [
        "plt.figure(figsize=(10, 6))\n",
        "sns.countplot(y='Ticket Channel', data=df, order=df['Ticket Channel'].value_counts().index)\n",
        "plt.title('Ticket Volume by Channel', fontsize=16)\n",
        "plt.xlabel('Number of Tickets', fontsize=12)\n",
        "plt.ylabel('Ticket Channel', fontsize=12)\n",
        "plt.grid(axis='x', linestyle='--', alpha=0.7)\n",
        "plt.show()"
      ],
      "metadata": {
        "colab": {
          "base_uri": "https://localhost:8080/",
          "height": 570
        },
        "id": "1Y-1UStQxdvk",
        "outputId": "cdf97ad5-f4f2-46c3-cef2-7f3a1c69496f"
      },
      "execution_count": 28,
      "outputs": [
        {
          "output_type": "display_data",
          "data": {
            "text/plain": [
              "<Figure size 1000x600 with 1 Axes>"
            ],
            "image/png": "[encoded data removed]"
          },
          "metadata": {}
        }
      ]
    },
    {
      "cell_type": "code",
      "source": [
        "bins = [18, 25, 35, 45, 55, 65, 75]\n",
        "labels = ['18-24', '25-34', '35-44', '45-54', '55-64', '65+']\n",
        "df['Age Group'] = pd.cut(df['Customer Age'], bins=bins, labels=labels, right=False)\n",
        "\n",
        "plt.figure(figsize=(10, 6))\n",
        "sns.countplot(x='Age Group',data=df, palette='magma')\n",
        "plt.title('Ticket Volume by Customer Age Group', fontsize=16)\n",
        "plt.xlabel('Age Group', fontsize=12)\n",
        "plt.ylabel('Number of Tickets', fontsize=12)\n",
        "plt.show()\n"
      ],
      "metadata": {
        "colab": {
          "base_uri": "https://localhost:8080/",
          "height": 677
        },
        "id": "rECL-hCZzew9",
        "outputId": "76f92f13-ef4b-4e2b-d231-b4ccc6015780"
      },
      "execution_count": 32,
      "outputs": [
        {
          "output_type": "stream",
          "name": "stderr",
          "text": [
            "/tmp/ipython-input-554913553.py:6: FutureWarning: \n",
            "\n",
            "Passing `palette` without assigning `hue` is deprecated and will be removed in v0.14.0. Assign the `x` variable to `hue` and set `legend=False` for the same effect.\n",
            "\n",
            "  sns.countplot(x='Age Group',data=df, palette='magma')\n"
          ]
        },
        {
          "output_type": "display_data",
          "data": {
            "text/plain": [
              "<Figure size 1000x600 with 1 Axes>"
            ],
            "image/png": "[encoded data removed]"
          },
          "metadata": {}
        }
      ]
    },
    {
      "cell_type": "code",
      "source": [
        "df.groupby('Ticket Channel')['Ticket Priority'].value_counts()\n",
        "plt.figure(figsize=(10, 6))\n",
        "sns.countplot(x='Ticket Channel', hue='Ticket Priority', data=df, palette='magma')\n",
        "plt.legend(loc='upper right')\n",
        "plt.title('Ticket Priority by Channel', fontsize=16)\n",
        "plt.xlabel('Ticket Channel', fontsize=12)\n",
        "plt.ylabel('Number of Tickets', fontsize=12)\n",
        "plt.show()\n",
        "plt"
      ],
      "metadata": {
        "colab": {
          "base_uri": "https://localhost:8080/",
          "height": 587
        },
        "id": "WTpApLb-1G5x",
        "outputId": "d9c2a246-aad5-4670-e208-ca41e3fea4f5"
      },
      "execution_count": 40,
      "outputs": [
        {
          "output_type": "display_data",
          "data": {
            "text/plain": [
              "<Figure size 1000x600 with 1 Axes>"
            ],
            "image/png": "[encoded data removed]"
          },
          "metadata": {}
        },
        {
          "output_type": "execute_result",
          "data": {
            "text/plain": [
              "<module 'matplotlib.pyplot' from '/usr/local/lib/python3.12/dist-packages/matplotlib/pyplot.py'>"
            ]
          },
          "metadata": {},
          "execution_count": 40
        }
      ]
    },
    {
      "cell_type": "code",
      "source": [
        "df.dropna(subset=['Resolution','Time to Resolution'],inplace=True)"
      ],
      "metadata": {
        "id": "g8r24L0B3LMg"
      },
      "execution_count": 43,
      "outputs": []
    },
    {
      "cell_type": "code",
      "source": [
        "stop_words = set(stopwords.words('english'))\n",
        "def clean_text(text):\n",
        "       if isinstance(text, str):\n",
        "           # Convert text to lowercase\n",
        "           text = text.lower()\n",
        "           # Remove special characters, numbers, and punctuation\n",
        "           text = re.sub(r'[^a-zA-Z\\s]', '', text)\n",
        "           # Remove stopwords\n",
        "           words = text.split()\n",
        "           filtered_words = [word for word in words if word not in stop_words]\n",
        "           return ' '.join(filtered_words)\n",
        "           return \"\"\n",
        "df['Cleaned_Description'] = df['Ticket Description'].apply(clean_text)\n",
        "# Print the first few cleaned descriptions to verify the changes\n",
        "print(\"\\n--- First 5 Cleaned Ticket Descriptions ---\")\n",
        "for desc in df['Cleaned_Description'].head():\n",
        "  print(desc)\n",
        "# We can now save this cleaned data for future use\n",
        "df.to_csv('cleaned_tickets.csv', index=False)\n",
        "print(\"\\nCleaned data has been saved to 'cleaned_tickets.csv'.\")"
      ],
      "metadata": {
        "colab": {
          "base_uri": "https://localhost:8080/"
        },
        "id": "sMqq46Iv3zEE",
        "outputId": "df34c790-e042-435b-efbb-5024356146ac"
      },
      "execution_count": 48,
      "outputs": [
        {
          "output_type": "stream",
          "name": "stdout",
          "text": [
            "\n",
            "--- First 5 Cleaned Ticket Descriptions ---\n",
            "im facing problem productpurchased productpurchased turning working fine yesterday doesnt respond really im using original charger came productpurchased charging properly\n",
            "im issue productpurchased please assist problem youre interested id love see happen please check feedback ive already contacted customer support multiple times issue remains unresolved\n",
            "im issue productpurchased please assist note seller responsible damages arising delivery battleground game please game good condition shipped ive noticed sudden decrease battery life productpurchased used last much longer\n",
            "im issue productpurchased please assist product search whats new report feedback customer service best im using original charger came productpurchased charging properly\n",
            "im issue productpurchased please assist possible cannot find type text product name identify someone like mr brown ive reviewed troubleshooting steps official support website didnt resolve problem\n",
            "\n",
            "Cleaned data has been saved to 'cleaned_tickets.csv'.\n"
          ]
        }
      ]
    },
    {
      "cell_type": "code",
      "source": [
        "import pandas as pd\n",
        "from textblob import TextBlob\n",
        "from sklearn.feature_extraction.text import TfidfVectorizer\n",
        "from sklearn.decomposition import LatentDirichletAllocation\n",
        "import os\n",
        "\n",
        "def perform_nlp_analysis(file_path='cleaned_tickets.csv'):\n",
        "    \"\"\"\n",
        "    Performs sentiment analysis and topic modeling on cleaned ticket descriptions.\n",
        "    \"\"\"\n",
        "    if not os.path.exists(file_path):\n",
        "        print(f\"Error: The file '{file_path}' was not found.\")\n",
        "        return\n",
        "\n",
        "    print(\"Loading cleaned data...\")\n",
        "    df = pd.read_csv(file_path)\n",
        "\n",
        "    # --- 1. Sentiment Analysis with TextBlob ---\n",
        "    print(\"\\n--- Performing Sentiment Analysis ---\")\n",
        "\n",
        "    # TextBlob returns a polarity score (-1 to 1) and a subjectivity score (0 to 1).\n",
        "    # We will use polarity to classify sentiment.\n",
        "    def get_sentiment(text):\n",
        "        if isinstance(text, str):\n",
        "            analysis = TextBlob(text)\n",
        "            if analysis.sentiment.polarity > 0:\n",
        "                return 'Positive'\n",
        "            elif analysis.sentiment.polarity < 0:\n",
        "                return 'Negative'\n",
        "            else:\n",
        "                return 'Neutral'\n",
        "        return 'Neutral'\n",
        "\n",
        "    df['Sentiment'] = df['Cleaned_Description'].apply(get_sentiment)\n",
        "\n",
        "    # Print the distribution of sentiments to see the results\n",
        "    print(\"Sentiment distribution:\")\n",
        "    print(df['Sentiment'].value_counts())\n",
        "\n",
        "    # --- 2. Topic Modeling with Latent Dirichlet Allocation (LDA) ---\n",
        "    print(\"\\n--- Performing Topic Modeling ---\")\n",
        "\n",
        "    # TF-IDF Vectorizer to convert text to numerical features\n",
        "    tfidf_vectorizer = TfidfVectorizer(max_df=0.95, min_df=2, stop_words='english')\n",
        "    tfidf_matrix = tfidf_vectorizer.fit_transform(df['Cleaned_Description'])\n",
        "\n",
        "    # Latent Dirichlet Allocation (LDA) to find topics\n",
        "    # We'll set the number of topics to 5, but this can be tuned.\n",
        "    num_topics = 5\n",
        "    lda = LatentDirichletAllocation(n_components=num_topics, random_state=0)\n",
        "    lda.fit(tfidf_matrix)\n",
        "\n",
        "    # Function to print the top words for each topic\n",
        "    def print_top_words(model, feature_names, n_top_words):\n",
        "        print(f\"Top {n_top_words} words per topic:\")\n",
        "        for topic_idx, topic in enumerate(model.components_):\n",
        "            message = \"Topic #%d: \" % topic_idx\n",
        "            message += \" \".join([feature_names[i]\n",
        "                                 for i in topic.argsort()[:-n_top_words - 1:-1]])\n",
        "            print(message)\n",
        "\n",
        "    # Print the topics to the console\n",
        "    print_top_words(lda, tfidf_vectorizer.get_feature_names_out(), n_top_words=10)\n",
        "\n",
        "    # Assign topics to each document\n",
        "    topic_assignment = lda.transform(tfidf_matrix).argmax(axis=1)\n",
        "    df['Topic_ID'] = topic_assignment\n",
        "\n",
        "    # Manually map topic IDs to meaningful names based on interpretation of top words\n",
        "    topic_names_map = {\n",
        "        0: 'Technical Support',\n",
        "        1: 'General Troubleshooting',\n",
        "        2: 'Advanced Troubleshooting',\n",
        "        3: 'Error Messages',\n",
        "        4: 'Feature Requests'\n",
        "    }\n",
        "\n",
        "    df['Topic_Name'] = df['Topic_ID'].map(topic_names_map)\n",
        "\n",
        "    # Print the new topic names and their distribution\n",
        "    print(\"\\nTopic names and their distribution:\")\n",
        "    print(df['Topic_Name'].value_counts())\n",
        "\n",
        "    # Save the dataframe with new sentiment and topic columns\n",
        "    df.to_csv('tickets_with_analysis.csv', index=False)\n",
        "    print(\"\\nFinal data with sentiment, topic IDs, and topic names saved to 'tickets_with_analysis.csv'.\")\n",
        "\n",
        "\n",
        "if __name__ == \"__main__\":\n",
        "    perform_nlp_analysis()\n"
      ],
      "metadata": {
        "colab": {
          "base_uri": "https://localhost:8080/"
        },
        "id": "8xyhL6Vz5jmE",
        "outputId": "77fec84b-3bec-4818-80c8-e3db1b70f8d7"
      },
      "execution_count": 60,
      "outputs": [
        {
          "output_type": "stream",
          "name": "stdout",
          "text": [
            "Loading cleaned data...\n",
            "\n",
            "--- Performing Sentiment Analysis ---\n",
            "Sentiment distribution:\n",
            "Sentiment\n",
            "Positive    1445\n",
            "Negative     682\n",
            "Neutral      642\n",
            "Name: count, dtype: int64\n",
            "\n",
            "--- Performing Topic Modeling ---\n",
            "Top 10 words per topic:\n",
            "Topic #0: software issue device im checked assist different recent changes havent\n",
            "Topic #1: fine im facing works resolve intermittent unexpectedly acts reset problem\n",
            "Topic #2: issue troubleshooting im steps specific ive mentioned manual user problem\n",
            "Topic #3: issue im assist noticed screen ive message error mean says\n",
            "Topic #4: option issue action perform im desired recently guide steps unable\n",
            "\n",
            "Topic names and their distribution:\n",
            "Topic_Name\n",
            "Error Messages              631\n",
            "Technical Support           607\n",
            "Feature Requests            543\n",
            "Advanced Troubleshooting    497\n",
            "General Troubleshooting     491\n",
            "Name: count, dtype: int64\n",
            "\n",
            "Final data with sentiment, topic IDs, and topic names saved to 'tickets_with_analysis.csv'.\n"
          ]
        }
      ]
    }
  ]
}